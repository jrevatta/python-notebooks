{
 "cells": [
  {
   "cell_type": "markdown",
   "metadata": {
    "deletable": true,
    "editable": true
   },
   "source": [
    "# 1.1 Tu primer programa\n",
    "\n",
    "En esta sección, nuestro plan es guiarte al mundo de la programación de Python llevándote a través de los pasos básicos necesarios para que un programa simple se ejecute. El sistema Python (en adelante Python) es una colección de aplicaciones, no muy diferente a otras aplicaciones que estás acostumbrado a usar (como procesador de textos, programa de correo electrónico y navegador web). Al igual que con cualquier aplicación, debe estar seguro de que Python está correctamente instalado en tu computadora. Viene precargado en muchas computadoras, o puede descargarlo fácilmente. También necesita un editor de texto y una aplicación de terminal o consola. Su primera tarea es seguir las instrucciones para instalar un entorno de programación Python."
   ]
  },
  {
   "cell_type": "markdown",
   "metadata": {
    "deletable": true,
    "editable": true
   },
   "source": [
    "### Composing a Python Program\n",
    "A Python program is nothing more than a sequence of characters stored in a file whose name has a .py extension. To create one, you need only define that sequence characters using a text editor.\n",
    "The program helloworld.py is an example of a complete Python program. We repeat the program in this page to facilitate the following description. The line numbers are shown to make it easy to reference specific lines, but they are not part of the program and should not be in your helloworld.py file."
   ]
  },
  {
   "cell_type": "code",
   "execution_count": 1,
   "metadata": {
    "collapsed": false,
    "deletable": true,
    "editable": true
   },
   "outputs": [
    {
     "name": "stdout",
     "output_type": "stream",
     "text": [
      "Hello, World\n"
     ]
    }
   ],
   "source": [
    "import stdio\n",
    "\n",
    "# Escribir 'Hello, World' en la salida estándar\n",
    "stdio.writeln('Hello, World')"
   ]
  },
  {
   "cell_type": "markdown",
   "metadata": {
    "deletable": true,
    "editable": true
   },
   "source": [
    "The program's sole action is to write a message back to the terminal window. A Python program consists of statements. Typically you place each statement on a distinct line.\n",
    "Line 1 contains an import statement. That statement tells Python that you intend to use the features defined in the stdio module, that is, in a file named stdio.py. The stdio.py file is one that we designed specifically for this book. It defines functions related to reading input and writing output. Having imported the stdio module, you can later call a function that is defined in that module.\n",
    "Line 2 is a blank line. Python ignores blank lines; programmers use them to separate logical blocks of code.\n",
    "Line 3 contains a comment, which serves to document the program. In Python a comment begins with the '#' character and extends to the end of the line. Python ignores comments; they are present only for human readers of the program.\n",
    "Line 4 is the heart of the program. It is a statement that calls the stdio.writeln() function to write one line with the given text on it. Note that we call a function in another module by writing the module name, followed by a period, followed by the function name."
   ]
  },
  {
   "cell_type": "markdown",
   "metadata": {
    "deletable": true,
    "editable": true
   },
   "source": [
    "\n",
    "*Python 2*. The lingua france in this booksite is Python 3, because it is the future of Python programming. However, we have been very careful to ensure that the code in the booksite works with either Python 2 or Python 3. For example, in Python 2, the helloworld.py program could be simply the single line print 'Hello, World', but this is not a valid program in Python 3. To develop code for writing output that works in either version of Python, we use our stdio module. Whenever there is a significant difference between the two languages, we call attention to Python 2 users in a callout box like this one."
   ]
  },
  {
   "cell_type": "markdown",
   "metadata": {
    "deletable": true,
    "editable": true
   },
   "source": [
    "### Executing a Python Program\n",
    "Once you compose the program, you can run (or execute) it. To run your program the Python compiler translates your Python program into a language that is more suitable for execution on a computer. Then the Python interpreter directs your computer to follow the instructions expressed in that language. To run your program, type the python command followed by the name of the file containing the Python program in a terminal window.\n",
    "\n",
    "$ python helloworld.py\n",
    "\n",
    "If all goes well, you will see the following response:\n",
    "\n",
    "Hello, World\n",
    "\n",
    "For the time being, all of your programs will be just like helloworld.py, except with a different sequence of statements. The easiest way to compose such a program is to:\n",
    "\n",
    "* Copy helloworld.py into a new file whose name is the program name followed by .py.\n",
    "* Replace the call of stdio.writeln() with a different statement or sequence of statements."
   ]
  },
  {
   "cell_type": "markdown",
   "metadata": {
    "deletable": true,
    "editable": true
   },
   "source": [
    "### Errors\n",
    "It is easy to blur the distinction among editing, compiling, and interpreting programs. You should keep them separate in your mind when you are learning to program, to better understand the effects of the errors that inevitably arise. You can find several examples of errors in the Q&A at the end of this section.\n",
    "You can fix or avoid most errors by carefully examining the program as you create it. Some errors, known as compile-time errors, are raised when Python compiles the program, because they prevent the compiler from doing the translation. Python reports a compile-time error as a SyntaxError. Other errors, known as run-time errors, are not raised until Python interprets the program. For example, if you forget the import stdio statement in helloworld.py, then Python will raise a NameError at run time."
   ]
  },
  {
   "cell_type": "markdown",
   "metadata": {
    "deletable": true,
    "editable": true
   },
   "source": [
    "### Input and Output\n",
    "Typically, we want to provide input to our programs, that is, data that they can process to produce a result. The simplest way to provide input data is illustrated in [useargument.py](http://jupyter.webs.net.pe:8888/notebooks/code/introcs-python/useargument.py). Whenever you run that program, it accepts the command-line argument that you type after the program name and writes it back out to the terminal as part of the message."
   ]
  },
  {
   "cell_type": "code",
   "execution_count": 4,
   "metadata": {
    "collapsed": true,
    "deletable": true,
    "editable": true
   },
   "outputs": [],
   "source": [
    "# $ python useargument.py Alice\n",
    "# Hi, Alice. How are you?\n",
    "# $ python useargument.py Bob\n",
    "# Hi, Bob. How are you?\n",
    "\n"
   ]
  },
  {
   "cell_type": "markdown",
   "metadata": {},
   "source": [
    "In useargument.py, the statement import sys tells Python that you wish to use the features defined in the sys module. One of those features, named argv, is a list of command-line arguments (which appear after python useargument.py on the command line, delimited by spaces). Section 1.4 describes lists in detail; for now it is sufficient to understand that sys.argv[1] is the first command-line argument that you type after the program name, sys.argv[2] is the second command-line argument that you type after the program name, and so forth.\n",
    "\n",
    "In addition to stdio.writeln(), useargument.py calls the stdio.write() function. This function is just like stdio.writeln(), but writes just the string (not a newline character)."
   ]
  },
  {
   "cell_type": "code",
   "execution_count": null,
   "metadata": {
    "collapsed": true
   },
   "outputs": [],
   "source": []
  }
 ],
 "metadata": {
  "kernelspec": {
   "display_name": "py3",
   "language": "python",
   "name": "py3"
  },
  "language_info": {
   "codemirror_mode": {
    "name": "ipython",
    "version": 3
   },
   "file_extension": ".py",
   "mimetype": "text/x-python",
   "name": "python",
   "nbconvert_exporter": "python",
   "pygments_lexer": "ipython3",
   "version": "3.5.2"
  }
 },
 "nbformat": 4,
 "nbformat_minor": 2
}
