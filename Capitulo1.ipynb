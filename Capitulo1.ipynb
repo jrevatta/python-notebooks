{
 "cells": [
  {
   "cell_type": "markdown",
   "metadata": {
    "deletable": true,
    "editable": true
   },
   "source": [
    "# Capitulo 1: Elementos de programación"
   ]
  },
  {
   "cell_type": "markdown",
   "metadata": {
    "deletable": true,
    "editable": true
   },
   "source": [
    "Nuestro objetivo en este capitulo es convencerte que crear un programa de computadoras es tan fácil como escribir un texto como un parrafo o un resumen. Escribir prosa es dificil: Nosotros pasamos muchos años en la escuela para aprender como se hace. Por el contrario, sólo unos pocos bloques de construcción son suficientes para llevarnos a un mundo en el que podemos aprovechar la computadora para ayudarnos a resolver todo tipo de problemas fascinantes, que de otra manera serían inaccesibles. En este capítulo, le llevamos a través de estos bloques de construcción, empezar a programar en Python y estudiar una variedad de programas interesantes."
   ]
  },
  {
   "cell_type": "markdown",
   "metadata": {
    "deletable": true,
    "editable": true
   },
   "source": [
    "1.1 *Tu primer programa*, contiene instrucciones de como componer y ejecutar un programa Python en tu sistema."
   ]
  },
  {
   "cell_type": "markdown",
   "metadata": {},
   "source": [
    "1.2 *Tipos de Datos del lenguaje*, describe los tipos de datos para manipular textos, números enteros, números reales y tipos de datos lógicos."
   ]
  },
  {
   "cell_type": "markdown",
   "metadata": {},
   "source": [
    "1.3 *Condicionales y bucles* se introduce estructuras de control de flujo tales como if, while and for"
   ]
  },
  {
   "cell_type": "markdown",
   "metadata": {},
   "source": [
    "1.4 *Arreglos*, se considera una estructura de datos conocida como un arreglo o secuencia para organizar una cantidad grande de datos."
   ]
  },
  {
   "cell_type": "markdown",
   "metadata": {},
   "source": [
    "1.5 *Entradas y Salidas*, se extiende el conjunto de abstracciones de entrada y salida I/O para incorporar la salida estandar, dibujo estandar y audio estandar"
   ]
  },
  {
   "cell_type": "markdown",
   "metadata": {},
   "source": [
    "1.6 *Caso de estudio: Navegador Web Random* presenta un caso de estudio que modela el comportamiento de un navegador web usando cadenas de Markov"
   ]
  },
  {
   "cell_type": "code",
   "execution_count": null,
   "metadata": {
    "collapsed": true
   },
   "outputs": [],
   "source": []
  }
 ],
 "metadata": {
  "kernelspec": {
   "display_name": "Python 2",
   "language": "python",
   "name": "python2"
  },
  "language_info": {
   "codemirror_mode": {
    "name": "ipython",
    "version": 2
   },
   "file_extension": ".py",
   "mimetype": "text/x-python",
   "name": "python",
   "nbconvert_exporter": "python",
   "pygments_lexer": "ipython2",
   "version": "2.7.12"
  }
 },
 "nbformat": 4,
 "nbformat_minor": 2
}
